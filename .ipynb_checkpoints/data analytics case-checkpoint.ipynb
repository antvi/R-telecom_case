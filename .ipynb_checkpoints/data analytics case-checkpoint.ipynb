{
 "cells": [
  {
   "cell_type": "markdown",
   "metadata": {},
   "source": [
    "# Часть 1 практическая:"
   ]
  },
  {
   "cell_type": "markdown",
   "metadata": {},
   "source": [
    "# Задание 1.1"
   ]
  },
  {
   "cell_type": "markdown",
   "metadata": {},
   "source": [
    "В приложении вы найдете 2 таблицы, это кусок базы для «прогнозирования оттока».\n",
    "В «Таблице 1» содержатся некоторые данные о поведении Клиентов за три месяца\n",
    "В «Таблице 2» данные об оттоке этих Клиентов в 4-м месяце.\n",
    "Необходимо из исходных таблиц (см. вкладки «Таблица 1»  и «Таблица 2»  во вложении) получить  таблицу со следующими характеристиками (описание показателей на вкладке «Словарь показателей»): "
   ]
  },
  {
   "cell_type": "markdown",
   "metadata": {},
   "source": [
    "- В таблицу должны попасть  клиенты со сроком жизни (CL_AGE) больше 90 дней на март 2016г."
   ]
  },
  {
   "cell_type": "markdown",
   "metadata": {},
   "source": [
    "- В таблицу должны попасть только клиенты с ненулевым количеством интернет сессий (ACC_COUNT_INTER)  в марте 2016г."
   ]
  },
  {
   "cell_type": "markdown",
   "metadata": {},
   "source": [
    "- Таблица должна иметь следующие показатели по каждому идентификатору клиента: \n",
    " - Возраст клиента в марте 2016 г.\n",
    " - Показатели № 4-20 за месяца января-марта 2016 г.  (данные за каждый месяц по каждому показателю отдельно)\n",
    " - Суммарное ­значение за три месяца  для показателей № 4, 13, 18 (сумма  рассчитывается по каждому показателю в отдельности)\n",
    " - Сумма максимального платежа за три месяца\n",
    " - Среднее значение за три месяца для показателей № 9, 10, 12\n",
    " - Показатель, характеризующий наличие хотя бы одной аварии за три месяца (1 – аварии были, 0 – не было)\n",
    " - Показатель, характеризующий наличие хотя бы одно перехода из добросовестного плательщика в недобросовестного за 3 мес. (1 – был переход, 0 – не было)\n",
    " - Показатель – таргет с листа «Таблица 2»"
   ]
  },
  {
   "cell_type": "markdown",
   "metadata": {},
   "source": [
    "Итоговый результат: написанный скрипт SQL , который  исходную таблицу преобразует  в вышеописанный вид + таблица в excel с результатами запуска скрипта\n",
    "Для написания и тестирования скрипта можно воспользоваться  СУБД MYSQL, которая доступна по ссылке https://free4.beget.com/phpMyAdmin/index.php"
   ]
  },
  {
   "cell_type": "markdown",
   "metadata": {},
   "source": [
    "# Решение "
   ]
  },
  {
   "cell_type": "raw",
   "metadata": {},
   "source": [
    "SELECT TAB.ID_CLIENT,\n",
    "       TAB.CL_AGE,\n",
    "       TAB2.AG_INTER_CNT,\n",
    "       TAB2.ACC_COUNT_INTER,\n",
    "       TAB.SUM_ACC_COUNT_INTER,\n",
    "       TAB.ACCIDENTS_FOR_THREE_MONTHS,\n",
    "       TAB2.ACC_TIME_INTER,\n",
    "       TAB2.AG_CALL_EXISTS,\n",
    "       TAB2.AG_FACT_ANTIVIRUS,\n",
    "       TAB2.AG_FACT_SB,\n",
    "       TAB2.AG_INTER_CNT,\n",
    "       TAB.AVG_AG_INTER_CNT,\n",
    "       TAB2.PAY_BALANCE,\n",
    "       TAB.AVG_PAY_BALANCE,\n",
    "       TAB2.PAY_BILL_PAYMENT,\n",
    "       TAB2.PAY_COUNT_DEBT_ALL,\n",
    "       TAB.AVG_PAY_COUNT_DEBT_ALL,\n",
    "       TAB2.PAY_COUNT_PROMISE_PAYMENT,\n",
    "       TAB.SUM_PAY_COUNT_PROMISE_PAYMENT,\n",
    "       TAB2.PAY_NEGATIVE_BALANCE_DAYS,\n",
    "       TAB2.PAY_PROM_PAYER,\n",
    "       TAB.CONSCIENTIOUS,\n",
    "       TAB2.PAY_SUMM_DISC_OTHER,\n",
    "       TAB2.PAY_SUMM_MONTH,\n",
    "       TAB.MAX_PAY_SUMM_MONTH,\n",
    "       TAB2.SERV_COUNT,\n",
    "       TAB.SUM_SERV_COUNT,\n",
    "       TAB2.SERV_INTER_REPEAT,\n",
    "       TAB2.SERV_REQ_CONN,\n",
    "       TAB.SUM_SERV_COUNT,\n",
    "       TAB.TARGET\n",
    "FROM                             ( SELECT *, \n",
    "                                        SUM(ACC_COUNT_INTER) as SUM_ACC_COUNT_INTER,\n",
    "                                        if (max(ACC_COUNT_INTER) > 0,1,0) as ACCIDENTS_FOR_THREE_MONTHS,\n",
    "                                        AVG(AG_INTER_CNT) as AVG_AG_INTER_CNT,\n",
    "                                        AVG(PAY_BALANCE) as AVG_PAY_BALANCE,\n",
    "                                        AVG(PAY_COUNT_DEBT_ALL) as AVG_PAY_COUNT_DEBT_ALL,\n",
    "                                        SUM(PAY_COUNT_PROMISE_PAYMENT) as SUM_PAY_COUNT_PROMISE_PAYMENT,\n",
    "                                        if (max(PAY_PROM_PAYER) > 0,1,0) as CONSCIENTIOUS,\n",
    "                                        MAX(PAY_SUMM_MONTH) as MAX_PAY_SUMM_MONTH,\n",
    "                                        SUM(SERV_COUNT) as SUM_SERV_COUNT,\n",
    "                                        (SELECT TARGET FROM second_table \n",
    "                                        WHERE first_table.ID_CLIENT = second_table.ID_CLIENT) as TARGET\n",
    "                                  FROM first_table\n",
    "                                  WHERE ID_CLIENT IN (SELECT ID_CLIENT\n",
    "                                                      FROM first_table \n",
    "                                                      WHERE\n",
    "                                                      CL_AGE > 90 \n",
    "                                                      AND AG_INTER_CNT <> 0\n",
    "                                                      AND MONTH(CALC_PERIOD) = 3)  \n",
    "                                  GROUP BY ID_CLIENT\n",
    "                                      ) AS TAB\n",
    "                                  JOIN ( SELECT * FROM first_table ) as TAB2\n",
    "WHERE TAB.ID_CLIENT = TAB2.ID_CLIENT\n",
    "   "
   ]
  },
  {
   "cell_type": "code",
   "execution_count": 1,
   "metadata": {},
   "outputs": [],
   "source": [
    "import pandas as pd"
   ]
  },
  {
   "cell_type": "code",
   "execution_count": 2,
   "metadata": {},
   "outputs": [
    {
     "data": {
      "text/html": [
       "<div>\n",
       "<style scoped>\n",
       "    .dataframe tbody tr th:only-of-type {\n",
       "        vertical-align: middle;\n",
       "    }\n",
       "\n",
       "    .dataframe tbody tr th {\n",
       "        vertical-align: top;\n",
       "    }\n",
       "\n",
       "    .dataframe thead th {\n",
       "        text-align: right;\n",
       "    }\n",
       "</style>\n",
       "<table border=\"1\" class=\"dataframe\">\n",
       "  <thead>\n",
       "    <tr style=\"text-align: right;\">\n",
       "      <th></th>\n",
       "      <th>ID_CLIENT</th>\n",
       "      <th>CL_AGE</th>\n",
       "      <th>AG_INTER_CNT</th>\n",
       "      <th>ACC_COUNT_INTER</th>\n",
       "      <th>SUM_ACC_COUNT_INTER</th>\n",
       "      <th>ACCIDENTS_FOR_THREE_MONTHS</th>\n",
       "      <th>ACC_TIME_INTER</th>\n",
       "      <th>AG_CALL_EXISTS</th>\n",
       "      <th>AG_FACT_ANTIVIRUS</th>\n",
       "      <th>AG_FACT_SB</th>\n",
       "      <th>...</th>\n",
       "      <th>CONSCIENTIOUS</th>\n",
       "      <th>PAY_SUMM_DISC_OTHER</th>\n",
       "      <th>PAY_SUMM_MONTH</th>\n",
       "      <th>MAX_PAY_SUMM_MONTH</th>\n",
       "      <th>SERV_COUNT</th>\n",
       "      <th>SUM_SERV_COUNT</th>\n",
       "      <th>SERV_INTER_REPEAT</th>\n",
       "      <th>SERV_REQ_CONN</th>\n",
       "      <th>SUM_SERV_COUNT.1</th>\n",
       "      <th>TARGET</th>\n",
       "    </tr>\n",
       "  </thead>\n",
       "  <tbody>\n",
       "    <tr>\n",
       "      <th>0</th>\n",
       "      <td>1242751.0</td>\n",
       "      <td>784.0</td>\n",
       "      <td>7.0</td>\n",
       "      <td>0.0</td>\n",
       "      <td>1.0</td>\n",
       "      <td>1.0</td>\n",
       "      <td>0.00</td>\n",
       "      <td>1.0</td>\n",
       "      <td>1.0</td>\n",
       "      <td>0.0</td>\n",
       "      <td>...</td>\n",
       "      <td>1.0</td>\n",
       "      <td>0.0</td>\n",
       "      <td>1113.00</td>\n",
       "      <td>1113.0</td>\n",
       "      <td>1.0</td>\n",
       "      <td>1.0</td>\n",
       "      <td>0.0</td>\n",
       "      <td>1.0</td>\n",
       "      <td>1.0</td>\n",
       "      <td>1.0</td>\n",
       "    </tr>\n",
       "    <tr>\n",
       "      <th>1</th>\n",
       "      <td>1242751.0</td>\n",
       "      <td>784.0</td>\n",
       "      <td>9.0</td>\n",
       "      <td>1.0</td>\n",
       "      <td>1.0</td>\n",
       "      <td>1.0</td>\n",
       "      <td>0.07</td>\n",
       "      <td>NaN</td>\n",
       "      <td>0.0</td>\n",
       "      <td>0.0</td>\n",
       "      <td>...</td>\n",
       "      <td>1.0</td>\n",
       "      <td>0.0</td>\n",
       "      <td>0.00</td>\n",
       "      <td>1113.0</td>\n",
       "      <td>0.0</td>\n",
       "      <td>1.0</td>\n",
       "      <td>0.0</td>\n",
       "      <td>0.0</td>\n",
       "      <td>1.0</td>\n",
       "      <td>1.0</td>\n",
       "    </tr>\n",
       "    <tr>\n",
       "      <th>2</th>\n",
       "      <td>1242751.0</td>\n",
       "      <td>784.0</td>\n",
       "      <td>54.0</td>\n",
       "      <td>0.0</td>\n",
       "      <td>1.0</td>\n",
       "      <td>1.0</td>\n",
       "      <td>0.00</td>\n",
       "      <td>NaN</td>\n",
       "      <td>0.0</td>\n",
       "      <td>0.0</td>\n",
       "      <td>...</td>\n",
       "      <td>1.0</td>\n",
       "      <td>0.0</td>\n",
       "      <td>600.00</td>\n",
       "      <td>1113.0</td>\n",
       "      <td>0.0</td>\n",
       "      <td>1.0</td>\n",
       "      <td>0.0</td>\n",
       "      <td>0.0</td>\n",
       "      <td>1.0</td>\n",
       "      <td>1.0</td>\n",
       "    </tr>\n",
       "    <tr>\n",
       "      <th>3</th>\n",
       "      <td>1247537.0</td>\n",
       "      <td>1114.0</td>\n",
       "      <td>0.0</td>\n",
       "      <td>0.0</td>\n",
       "      <td>51.0</td>\n",
       "      <td>1.0</td>\n",
       "      <td>0.00</td>\n",
       "      <td>2.0</td>\n",
       "      <td>0.0</td>\n",
       "      <td>0.0</td>\n",
       "      <td>...</td>\n",
       "      <td>0.0</td>\n",
       "      <td>0.0</td>\n",
       "      <td>1547.00</td>\n",
       "      <td>1547.0</td>\n",
       "      <td>2.0</td>\n",
       "      <td>3.0</td>\n",
       "      <td>1.0</td>\n",
       "      <td>0.0</td>\n",
       "      <td>3.0</td>\n",
       "      <td>0.0</td>\n",
       "    </tr>\n",
       "    <tr>\n",
       "      <th>4</th>\n",
       "      <td>1247537.0</td>\n",
       "      <td>1114.0</td>\n",
       "      <td>23.0</td>\n",
       "      <td>5.0</td>\n",
       "      <td>51.0</td>\n",
       "      <td>1.0</td>\n",
       "      <td>0.39</td>\n",
       "      <td>2.0</td>\n",
       "      <td>0.0</td>\n",
       "      <td>0.0</td>\n",
       "      <td>...</td>\n",
       "      <td>0.0</td>\n",
       "      <td>0.0</td>\n",
       "      <td>1371.29</td>\n",
       "      <td>1547.0</td>\n",
       "      <td>0.0</td>\n",
       "      <td>3.0</td>\n",
       "      <td>0.0</td>\n",
       "      <td>0.0</td>\n",
       "      <td>3.0</td>\n",
       "      <td>0.0</td>\n",
       "    </tr>\n",
       "  </tbody>\n",
       "</table>\n",
       "<p>5 rows × 31 columns</p>\n",
       "</div>"
      ],
      "text/plain": [
       "   ID_CLIENT  CL_AGE  AG_INTER_CNT  ACC_COUNT_INTER  SUM_ACC_COUNT_INTER  \\\n",
       "0  1242751.0   784.0           7.0              0.0                  1.0   \n",
       "1  1242751.0   784.0           9.0              1.0                  1.0   \n",
       "2  1242751.0   784.0          54.0              0.0                  1.0   \n",
       "3  1247537.0  1114.0           0.0              0.0                 51.0   \n",
       "4  1247537.0  1114.0          23.0              5.0                 51.0   \n",
       "\n",
       "   ACCIDENTS_FOR_THREE_MONTHS  ACC_TIME_INTER  AG_CALL_EXISTS  \\\n",
       "0                         1.0            0.00             1.0   \n",
       "1                         1.0            0.07             NaN   \n",
       "2                         1.0            0.00             NaN   \n",
       "3                         1.0            0.00             2.0   \n",
       "4                         1.0            0.39             2.0   \n",
       "\n",
       "   AG_FACT_ANTIVIRUS  AG_FACT_SB  ...  CONSCIENTIOUS  PAY_SUMM_DISC_OTHER  \\\n",
       "0                1.0         0.0  ...            1.0                  0.0   \n",
       "1                0.0         0.0  ...            1.0                  0.0   \n",
       "2                0.0         0.0  ...            1.0                  0.0   \n",
       "3                0.0         0.0  ...            0.0                  0.0   \n",
       "4                0.0         0.0  ...            0.0                  0.0   \n",
       "\n",
       "   PAY_SUMM_MONTH  MAX_PAY_SUMM_MONTH SERV_COUNT SUM_SERV_COUNT  \\\n",
       "0         1113.00              1113.0        1.0            1.0   \n",
       "1            0.00              1113.0        0.0            1.0   \n",
       "2          600.00              1113.0        0.0            1.0   \n",
       "3         1547.00              1547.0        2.0            3.0   \n",
       "4         1371.29              1547.0        0.0            3.0   \n",
       "\n",
       "  SERV_INTER_REPEAT  SERV_REQ_CONN  SUM_SERV_COUNT.1  TARGET  \n",
       "0               0.0            1.0               1.0     1.0  \n",
       "1               0.0            0.0               1.0     1.0  \n",
       "2               0.0            0.0               1.0     1.0  \n",
       "3               1.0            0.0               3.0     0.0  \n",
       "4               0.0            0.0               3.0     0.0  \n",
       "\n",
       "[5 rows x 31 columns]"
      ]
     },
     "execution_count": 2,
     "metadata": {},
     "output_type": "execute_result"
    }
   ],
   "source": [
    "Data = pd.read_csv('/home/avikharev/Documents/Task 1.csv')\n",
    "Data.head()"
   ]
  },
  {
   "cell_type": "markdown",
   "metadata": {},
   "source": [
    "--============================================--"
   ]
  },
  {
   "cell_type": "markdown",
   "metadata": {},
   "source": [
    "# Задание 1.2"
   ]
  },
  {
   "cell_type": "markdown",
   "metadata": {},
   "source": [
    "Ниже представлена таблица о количестве абонентов и статусе их активности через 12 месяцев\n",
    "Абоненты разделены на сегменты, в зависимости от подключенных ими дополнительных услуг на январь 2018 года"
   ]
  },
  {
   "attachments": {
    "Screenshot%20from%202020-03-09%2022-24-03.png": {
     "image/png": "[encoded data removed]"
    }
   },
   "cell_type": "markdown",
   "metadata": {},
   "source": [
    "![Screenshot%20from%202020-03-09%2022-24-03.png](attachment:Screenshot%20from%202020-03-09%2022-24-03.png)"
   ]
  },
  {
   "cell_type": "markdown",
   "metadata": {},
   "source": [
    "Проанализируйте предоставленные данные и сделайте вывод о влиянии доп. услуг на отток абонентов.  \n",
    "Приложите excel файл с расчетами"
   ]
  },
  {
   "cell_type": "code",
   "execution_count": 6,
   "metadata": {},
   "outputs": [],
   "source": [
    "# xlsx = pd.read_excel('/home/avikharev/Documents/Task 2.xlsx')\n",
    "# print(xlsx)"
   ]
  },
  {
   "cell_type": "markdown",
   "metadata": {},
   "source": [
    "При анализе предоставленной таблицы можно сделать вывод, что сегмент абонентов с полным пакетом подключенных услуг имеет наименьшую долю оттока."
   ]
  },
  {
   "cell_type": "markdown",
   "metadata": {},
   "source": [
    "# Решение "
   ]
  },
  {
   "attachments": {
    "Screenshot%20from%202020-03-09%2022-51-50.png": {
     "image/png": "[encoded data removed]"
    }
   },
   "cell_type": "markdown",
   "metadata": {},
   "source": [
    "![Screenshot%20from%202020-03-09%2022-51-50.png](attachment:Screenshot%20from%202020-03-09%2022-51-50.png)"
   ]
  },
  {
   "cell_type": "markdown",
   "metadata": {},
   "source": [
    "Переменные x1,x2,x3 независимы между собой → Мультиколлинеарность отсутствует."
   ]
  },
  {
   "cell_type": "markdown",
   "metadata": {},
   "source": [
    "Регрессор \"Есть мультирум\" имеет наибольшую корреляцию с целевой переменной (-0.892), возможно, что для уменьшения доли оттока клиентов, им нужно более активно продвигать данную услугу."
   ]
  },
  {
   "cell_type": "markdown",
   "metadata": {},
   "source": [
    "Regression"
   ]
  },
  {
   "cell_type": "code",
   "execution_count": 11,
   "metadata": {},
   "outputs": [
    {
     "data": {
      "text/html": [
       "<table>\n",
       "<tbody>\n",
       "<tr><td>Regression Model</td><td>Linear</td></tr>\n",
       "<tr><td>R^2:            </td><td>0.11  </td></tr>\n",
       "<tr><td>Standard Error: </td><td>0.09  </td></tr>\n",
       "<tr><td>Slope:          </td><td>-0.058</td></tr>\n",
       "<tr><td>Intercept:      </td><td>0.248 </td></tr>\n",
       "</tbody>\n",
       "</table>"
      ],
      "text/plain": [
       "<IPython.core.display.HTML object>"
      ]
     },
     "metadata": {},
     "output_type": "display_data"
    }
   ],
   "source": [
    "from IPython.display import HTML, display\n",
    "import tabulate\n",
    "table = [[\"Regression Model\",\"Linear\"],\n",
    "         [\"R^2:\",0.11],\n",
    "         [\"Standard Error:\",0.09],\n",
    "         [\"Slope:\",-0.058],\n",
    "         [\"Intercept:\",0.248]]\n",
    "display(HTML(tabulate.tabulate(table, tablefmt='html')))"
   ]
  },
  {
   "cell_type": "markdown",
   "metadata": {},
   "source": [
    "Коэфициент детерминации очень мал (0,11),таким образом модель не достаточно хорошо описывает ситуацию, возможно требуется бОльшее количество параметров. "
   ]
  },
  {
   "cell_type": "code",
   "execution_count": 1,
   "metadata": {},
   "outputs": [],
   "source": [
    "from IPython.display import Image\n",
    "from IPython.core.display import HTML "
   ]
  },
  {
   "cell_type": "code",
   "execution_count": 2,
   "metadata": {},
   "outputs": [
    {
     "data": {
      "text/html": [
       "<img src=\"https://avatanplus.com/files/resources/mid/57612b24f340115553908884.png\"/>"
      ],
      "text/plain": [
       "<IPython.core.display.Image object>"
      ]
     },
     "execution_count": 2,
     "metadata": {},
     "output_type": "execute_result"
    }
   ],
   "source": [
    "Image(url= \"https://avatanplus.com/files/resources/mid/57612b24f340115553908884.png\")  "
   ]
  },
  {
   "cell_type": "markdown",
   "metadata": {},
   "source": [
    "# Часть 2 теоретическая:\n",
    "Давайте порассуждаем на тему «прогнозирования оттока клиентов»\n"
   ]
  },
  {
   "cell_type": "markdown",
   "metadata": {},
   "source": [
    "Кратко опишите:"
   ]
  },
  {
   "cell_type": "markdown",
   "metadata": {},
   "source": [
    "1. Каким образом стоит подготовить/обработать данные перед началом моделирования?"
   ]
  },
  {
   "cell_type": "markdown",
   "metadata": {},
   "source": [
    "Для более высокой точности построения математической модели, данные необходимо подвергнуть предварительной обработке (preprocessing). Прежде всего, требуется визуально посмотреть какие данные в конечном итоге у нас собрались, построить графики для соответствующих данных. Затем необходимо понять, нет ли среди данных лишних: все ли величины являются зависимыми перед целевым таргетом. Сделать это можно построив корреляционную матрицу. Таже стоит очистить выборку от отсутствующих данных, либо если выборка слишком мала, то допустимо заменить отсутствующие данные средними по параметру, либо вероятно подходящему исходя из условий. Также все данные необходимо стандартизировать и нормализовать.Для дальнейшей проверки качества модели данные можно разбить на 2 (train, test) или 3 (train,test,validate) выборки, если будет использоваться метод кросс-валидации, чтобы избежать переобучения. Также стоить посмотреть есть ли среди данных категориальные признаки, так как проеобразовав их в количественные с ними будет удобнее и проще работать."
   ]
  },
  {
   "cell_type": "markdown",
   "metadata": {},
   "source": [
    "2. Варианты типов моделей, которые могут быть использованы для решения задачи предсказания оттока. А так же результат, который можем получить после применения этих моделей."
   ]
  },
  {
   "cell_type": "markdown",
   "metadata": {},
   "source": [
    "Если рассматривать задачу \"Прогнозирования оттока клиентов\", как задачу бинарной классификации, то можно использовать следующие линейные математические модели, как например: \n",
    "\n",
    "* Random Forest (Случайный лес)\n",
    "* KNeighborsClassifier (Метод к - ближайших соседей)\n",
    "* LogisticRegression (Логистическая регрессия)\n",
    "* linear regression (Линейная регрессия, МНК)\n",
    "* SVC (Метод опорных векторов)\n",
    "\n",
    "Как правило, исходя из опытных примеров среди математических методов, метод Random Forest оказывается с наибольшим ROC в задачах бинарной классификации.\n",
    "\n",
    "Также можно использовать нейронные сети прямого распространения типа \n",
    "* MLPClassifier\n",
    "* MLPRegressor\n",
    "\n",
    "либо рекурентные нейронные сети (RNN), например,\n",
    "* LSTM\n",
    "\n",
    "Помимо этих вариантов можно использовать бустинговые модели\n",
    "* XGboost\n",
    "* CatBoost \n",
    "\n",
    "Еще можно использовать алгоритм машинного обучения от Microsoft на основе обучения дерева решения\n",
    "\n",
    "* LightGBM\n",
    "\n",
    "Что касается результатов, которые можем получить относительно всех моделей, то без применения этих моделей на реальных валидных данные, сказать сложно. \n",
    "Могу сослаться на [статью](https://habr.com/ru/company/rostelecom/blog/444694/) на хабре от компании Ростелеком, которые уже сталкивались с задачей прогнозирования оттока клиентов и пришли к выводу, что рекурентная нейронаая сеть LSTM на основе распределения Вейбулла с этой задачей справляется наиболее точно, таким образом ребята заняли первое место в номинации «AI в банках» на Чемпионате по ИИ RAIF-Challenge 2017. И действительно, нейронная сеть LSTM используется во многих задачах и очень часто с высокой эффективностью.\n"
   ]
  },
  {
   "cell_type": "markdown",
   "metadata": {},
   "source": [
    "Возможно, что данную задачу можно попробовать рассмотреть как временной ряд и попробовать проанализировать моделями ARIMA (SARIMA), но с подобной постановкой задачи и литературой в таком ключе задачи сталкиваться не доводилось."
   ]
  },
  {
   "cell_type": "markdown",
   "metadata": {},
   "source": [
    "3.   Какие данные вы бы еще добавили для моделирования? В каких разрезах?"
   ]
  },
  {
   "cell_type": "markdown",
   "metadata": {},
   "source": [
    "Для моделирования можно выделить на основе существующих данных подгруппы, классифицировав которые можно типизировать каждого клиента индивидуально. \n",
    "Учитывая нынешний век интернета и цифровизации, то если иметь доступ к потребляемому трафику человека и разбить трафик на конкретные классы, то это будет сильная база для составления достаточно точного профиля каждого человека. Если же человек не потребляет трафик, то это также будет является его характеристикой."
   ]
  },
  {
   "cell_type": "markdown",
   "metadata": {},
   "source": [
    "4. На какие оценки вы бы опирались для проверки качества модели?"
   ]
  },
  {
   "cell_type": "markdown",
   "metadata": {},
   "source": [
    "При проверки качества модели можно использовать метрику на основе Precision, recall и F-мера с анализом площади под кривой ошибок - ROC - кривой или критерий Джини."
   ]
  },
  {
   "cell_type": "markdown",
   "metadata": {},
   "source": [
    " 5. Какие действия с клиентами можно провести на основании результатов моделирования для проактивного предотвращения оттока?"
   ]
  },
  {
   "cell_type": "markdown",
   "metadata": {},
   "source": [
    "На основании результатов моделирования получится выявить причинность оттока конкретного клиента и явные или неявные признаки конкретных случаев. Для проактивного мониторинга оттока клиентов необходимо держать \"руку на пульсе\" и поддерживать с контакт. На основании активности клиента можно предсказать его уровень удовлетворенности услугами. Если подходить к контакту с клиентом достаточно креативно, то фидбэк от заинтереснованного клиента обязательно будет."
   ]
  },
  {
   "cell_type": "code",
   "execution_count": 3,
   "metadata": {},
   "outputs": [
    {
     "data": {
      "text/html": [
       "<img src=\"http://risovach.ru/upload/2014/12/mem/spasibo-za-vnimanie_67854470_orig_.jpg\"/>"
      ],
      "text/plain": [
       "<IPython.core.display.Image object>"
      ]
     },
     "execution_count": 3,
     "metadata": {},
     "output_type": "execute_result"
    }
   ],
   "source": [
    "Image(url= \"http://risovach.ru/upload/2014/12/mem/spasibo-za-vnimanie_67854470_orig_.jpg\")  "
   ]
  }
 ],
 "metadata": {
  "kernelspec": {
   "display_name": "Python 3",
   "language": "python",
   "name": "python3"
  },
  "language_info": {
   "codemirror_mode": {
    "name": "ipython",
    "version": 3
   },
   "file_extension": ".py",
   "mimetype": "text/x-python",
   "name": "python",
   "nbconvert_exporter": "python",
   "pygments_lexer": "ipython3",
   "version": "3.6.8"
  }
 },
 "nbformat": 4,
 "nbformat_minor": 2
}
